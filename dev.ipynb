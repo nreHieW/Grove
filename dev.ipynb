{
 "cells": [
  {
   "cell_type": "code",
   "execution_count": 6,
   "metadata": {},
   "outputs": [],
   "source": [
    "from Grove import Indices\n",
    "from Grove.Entry import BaseEntry\n",
    "import numpy as np\n",
    "import time\n",
    "import sys"
   ]
  },
  {
   "cell_type": "code",
   "execution_count": null,
   "metadata": {},
   "outputs": [],
   "source": [
    "DIM = 768\n",
    "NUM_VECTORS = 20\n",
    "def random_vector() -> np.array:\n",
    "    return np.float32(np.random.rand(DIM))\n",
    "\n",
    "def time_function(func, *args, **kwargs) -> float:\n",
    "    start = time.time()\n",
    "    func(*args, **kwargs)\n",
    "    end = time.time()\n",
    "    return end - start\n",
    "\n",
    "def get_mem_usage(obj) -> str:\n",
    "    size_bytes = sys.getsizeof(obj)\n",
    "    size_mb = size_bytes / (1024 * 1024)\n",
    "    return f\"{size_mb} MB\"\n",
    "\n",
    "def check_equality(a: np.array, b: np.array) -> None:\n",
    "    np.testing.assert_array_equal(a,b)\n",
    "\n",
    "q = random_vector()\n",
    "emb = [random_vector() for i in range(NUM_VECTORS)]"
   ]
  },
  {
   "attachments": {},
   "cell_type": "markdown",
   "metadata": {},
   "source": [
    "Usage"
   ]
  },
  {
   "cell_type": "code",
   "execution_count": null,
   "metadata": {},
   "outputs": [],
   "source": [
    "from Grove.Extras import HuggingFaceEmbeddings\n",
    "from api_keys import HUGGINGFACEHUB_API_TOKEN\n",
    "\n",
    "embeddings = HuggingFaceEmbeddings(HUGGINGFACEHUB_API_TOKEN)"
   ]
  },
  {
   "cell_type": "code",
   "execution_count": null,
   "metadata": {},
   "outputs": [],
   "source": [
    "import fitz\n",
    "def split_tuples(text_tuples):\n",
    "    questions = []\n",
    "    current_question = None\n",
    "    for flag, color, text in text_tuples:\n",
    "        if (flag == 16) & (color == 0):  # bolded text flag\n",
    "            if current_question:\n",
    "                if questions and current_question['question'] == questions[-1]['question']:\n",
    "                    # update previous question's answer\n",
    "                    questions[-1]['answer'] += text\n",
    "                elif len(text.split()) < 3:  # not a question\n",
    "                    current_question['answer'] += \" \" + text\n",
    "                else:  # new question\n",
    "                    questions.append(current_question)\n",
    "                    current_question = {'question': text, 'answer': ''}\n",
    "            else:\n",
    "                current_question = {'question': text, 'answer': ''}\n",
    "        else:  # non-bolded text flag\n",
    "            if current_question:\n",
    "                current_question['answer'] += \" \" + text\n",
    "    if current_question:\n",
    "        questions.append(current_question)\n",
    "    return questions\n",
    "fname = \"/Users/weihern/Documents/Computing Projects/FRIDAY/FRIDAY Working/A500S.pdf\"\n",
    "doc = fitz.open(fname)  # open document\n",
    "text_tuples = [(s[\"flags\"], s[\"color\"],s[\"text\"]) for page in doc for block in page.get_text(\"dict\")[\"blocks\"] for line in block[\"lines\"] for s in line[\"spans\"]]\n",
    "questions = split_tuples(text_tuples)\n",
    "questions = [x[\"question\"] + \"\\n\" + x[\"answer\"] for x in questions if x[\"answer\"] != \"\"]"
   ]
  },
  {
   "cell_type": "code",
   "execution_count": null,
   "metadata": {},
   "outputs": [],
   "source": [
    "embs = [embeddings(x) for x in questions]"
   ]
  },
  {
   "cell_type": "code",
   "execution_count": null,
   "metadata": {},
   "outputs": [],
   "source": [
    "root = Indices.SVMRootIndex(\"DashCamSG\", 10)\n",
    "root.create_child(\"A500S\", Indices.HNSWLeafIndex, dim = 768, key = embeddings(\"A500S\"), max_children = 18)\n",
    "root.insert_all([BaseEntry(embs[i], metadata = {\"content\": questions[i], \"id\": i}) for i in range(len(embs))], \"A500S\")\n",
    "root.create_child(\"somenonesnse\", Indices.HNSWLeafIndex, dim = 768, key = embeddings(\"somenonesnse\"), max_children = 1000)\n",
    "root.create_child(\"somenonesnse2\", Indices.HNSWLeafIndex, dim = 768, key = random_vector(), max_children = 1000)\n",
    "root.create_child(\"somenonesnse3\", Indices.HNSWLeafIndex, dim = 768, key = random_vector(), max_children = 1000)\n",
    "root.create_child(\"somenonesnse4\", Indices.HNSWLeafIndex, dim = 768, key = random_vector(), max_children = 1000)\n",
    "root.create_child(\"somenonesnse5\", Indices.HNSWLeafIndex, dim = 768, key = random_vector(), max_children = 1000)\n",
    "root.create_child(\"somenonesnse6\", Indices.HNSWLeafIndex, dim = 768, key = random_vector(), max_children = 1000)\n",
    "root.create_child(\"somenonesnse7\", Indices.HNSWLeafIndex, dim = 768, key = random_vector(), max_children = 1000)\n",
    "root.create_child(\"somenonesnse8\", Indices.HNSWLeafIndex, dim = 768, key = random_vector(), max_children = 1000)\n",
    "root.create_child(\"somenonesnse9\", Indices.HNSWLeafIndex, dim = 768, key = random_vector(), max_children = 1000)"
   ]
  },
  {
   "cell_type": "code",
   "execution_count": null,
   "metadata": {},
   "outputs": [
    {
     "data": {
      "text/plain": [
       "[{'content': '3. What’s the difference between A500S and A400?\\n A500s has a higher resolution for front camera, option for timelapse recording, build in GPS compare to A400 Pro plus is A500s. Global edition is for international use, with English menu & updateable firmware',\n",
       "  'id': 5},\n",
       " {'content': 'What’s the difference between A500S and A800S?\\n The main difference between the A800S & A500S would be the recording resolution, the A500S records up to 2.7K resolution, while the A800S records up to 4K. Screen size on A500S is 2 inch, while screen size on A800S is 3 inch.',\n",
       "  'id': 4},\n",
       " {'content': 'What is build in GPS for (A500S / 800S / DDPAI)?\\n To see where the footage was taken and route tracking from the footage playback. 5.',\n",
       "  'id': 8}]"
      ]
     },
     "execution_count": 24,
     "metadata": {},
     "output_type": "execute_result"
    }
   ],
   "source": [
    "query = np.array(embeddings(\"What is the resoulution of the A500\"))\n",
    "path, res, distances  = root.search(query=query, k = 3)\n",
    "[x.metadata for x in res[0]]"
   ]
  },
  {
   "cell_type": "code",
   "execution_count": null,
   "metadata": {},
   "outputs": [
    {
     "data": {
      "text/plain": [
       "'3. What’s the difference between A500S and A400?\\n A500s has a higher resolution for front camera, option for timelapse recording, build in GPS compare to A400 Pro plus is A500s. Global edition is for international use, with English menu & updateable firmware'"
      ]
     },
     "execution_count": 25,
     "metadata": {},
     "output_type": "execute_result"
    }
   ],
   "source": [
    "res[0][0].metadata.get(\"content\")"
   ]
  },
  {
   "cell_type": "code",
   "execution_count": null,
   "metadata": {},
   "outputs": [],
   "source": [
    "labels, d = root.children[\"A500S\"].index.knn_query(query, k = 3)"
   ]
  },
  {
   "cell_type": "code",
   "execution_count": null,
   "metadata": {},
   "outputs": [
    {
     "data": {
      "text/plain": [
       "'4.57763671875e-05 MB'"
      ]
     },
     "execution_count": 27,
     "metadata": {},
     "output_type": "execute_result"
    }
   ],
   "source": [
    "get_mem_usage(root)"
   ]
  },
  {
   "cell_type": "code",
   "execution_count": null,
   "metadata": {},
   "outputs": [
    {
     "name": "stdout",
     "output_type": "stream",
     "text": [
      "SVMRootIndex(name = DashCamSG, num_children = 10)\n",
      "    HNSWLeafIndex(name = somenonesnse9, dim = 768, current_count = 0, searchable = True)\n",
      "    HNSWLeafIndex(name = somenonesnse8, dim = 768, current_count = 0, searchable = True)\n",
      "    HNSWLeafIndex(name = somenonesnse7, dim = 768, current_count = 0, searchable = True)\n",
      "    HNSWLeafIndex(name = somenonesnse6, dim = 768, current_count = 0, searchable = True)\n",
      "    HNSWLeafIndex(name = somenonesnse5, dim = 768, current_count = 0, searchable = True)\n",
      "    HNSWLeafIndex(name = somenonesnse4, dim = 768, current_count = 0, searchable = True)\n",
      "    HNSWLeafIndex(name = somenonesnse3, dim = 768, current_count = 0, searchable = True)\n",
      "    HNSWLeafIndex(name = somenonesnse2, dim = 768, current_count = 0, searchable = True)\n",
      "    HNSWLeafIndex(name = somenonesnse, dim = 768, current_count = 0, searchable = True)\n",
      "    HNSWLeafIndex(name = A500S, dim = 768, current_count = 18, searchable = True)\n",
      "\n"
     ]
    }
   ],
   "source": [
    "print(root.get_schema())"
   ]
  },
  {
   "cell_type": "code",
   "execution_count": null,
   "metadata": {},
   "outputs": [],
   "source": [
    "root.save_to_disk()"
   ]
  },
  {
   "cell_type": "code",
   "execution_count": null,
   "metadata": {},
   "outputs": [],
   "source": [
    "del root"
   ]
  },
  {
   "cell_type": "code",
   "execution_count": null,
   "metadata": {},
   "outputs": [
    {
     "data": {
      "text/plain": [
       "[{'content': '3. What’s the difference between A500S and A400?\\n A500s has a higher resolution for front camera, option for timelapse recording, build in GPS compare to A400 Pro plus is A500s. Global edition is for international use, with English menu & updateable firmware',\n",
       "  'id': 5},\n",
       " {'content': 'What’s the difference between A500S and A800S?\\n The main difference between the A800S & A500S would be the recording resolution, the A500S records up to 2.7K resolution, while the A800S records up to 4K. Screen size on A500S is 2 inch, while screen size on A800S is 3 inch.',\n",
       "  'id': 4},\n",
       " {'content': 'What is build in GPS for (A500S / 800S / DDPAI)?\\n To see where the footage was taken and route tracking from the footage playback. 5.',\n",
       "  'id': 8}]"
      ]
     },
     "execution_count": 31,
     "metadata": {},
     "output_type": "execute_result"
    }
   ],
   "source": [
    "root = Indices.SVMRootIndex.load_from_disk(\"DashCamSG\")\n",
    "path, res, distances  = root.search(query=query, k = 3)\n",
    "[x.metadata for x in res[0]]"
   ]
  },
  {
   "cell_type": "code",
   "execution_count": null,
   "metadata": {},
   "outputs": [],
   "source": []
  }
 ],
 "metadata": {
  "kernelspec": {
   "display_name": "ml",
   "language": "python",
   "name": "python3"
  },
  "language_info": {
   "codemirror_mode": {
    "name": "ipython",
    "version": 3
   },
   "file_extension": ".py",
   "mimetype": "text/x-python",
   "name": "python",
   "nbconvert_exporter": "python",
   "pygments_lexer": "ipython3",
   "version": "3.9.15"
  },
  "orig_nbformat": 4
 },
 "nbformat": 4,
 "nbformat_minor": 2
}
