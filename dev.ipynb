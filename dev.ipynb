{
 "cells": [
  {
   "cell_type": "code",
   "execution_count": 19,
   "metadata": {},
   "outputs": [],
   "source": [
    "import Indices\n",
    "from Entry.baseentry import BaseEntry\n",
    "import numpy as np\n",
    "import time\n",
    "import sys"
   ]
  },
  {
   "cell_type": "code",
   "execution_count": 20,
   "metadata": {},
   "outputs": [],
   "source": [
    "DIM = 20\n",
    "NUM_VECTORS = 20\n",
    "def random_vector() -> np.array:\n",
    "    return np.float32(np.random.rand(DIM))\n",
    "\n",
    "def time_function(func, *args, **kwargs) -> float:\n",
    "    start = time.time()\n",
    "    func(*args, **kwargs)\n",
    "    end = time.time()\n",
    "    return end - start\n",
    "\n",
    "def get_mem_usage(obj) -> str:\n",
    "    size_bytes = sys.getsizeof(obj)\n",
    "    size_mb = size_bytes / (1024 * 1024)\n",
    "    return f\"{size_mb} MB\"\n",
    "\n",
    "def check_equality(a: np.array, b: np.array) -> None:\n",
    "    np.testing.assert_array_equal(a,b)\n",
    "\n",
    "q = random_vector()\n",
    "emb = [random_vector() for i in range(NUM_VECTORS)]"
   ]
  },
  {
   "attachments": {},
   "cell_type": "markdown",
   "metadata": {},
   "source": [
    "Usage"
   ]
  },
  {
   "cell_type": "code",
   "execution_count": 31,
   "metadata": {},
   "outputs": [],
   "source": [
    "root = Indices.SVMRootIndex(\"root\", 10)"
   ]
  },
  {
   "cell_type": "code",
   "execution_count": 32,
   "metadata": {},
   "outputs": [],
   "source": [
    "root.create_child_level([\"a\", \"b\"], Indices.SVMInnerIndex, keys=[random_vector() for i in range(2)],max_children = NUM_VECTORS)\n",
    "root.children[\"a\"].create_child_level([\"a1\", \"a2\"], Indices.HNSWLeafIndex, keys=[random_vector() for i in range(2)],max_children = NUM_VECTORS, dim = DIM)\n",
    "root.children[\"b\"].create_child_level([\"b1\", \"b2\"], Indices.HNSWLeafIndex, keys=[random_vector() for i in range(2)],max_children = NUM_VECTORS, dim = DIM)"
   ]
  },
  {
   "cell_type": "code",
   "execution_count": 33,
   "metadata": {},
   "outputs": [],
   "source": [
    "embeddings = np.array([random_vector() for _ in range(NUM_VECTORS)])\n",
    "embeddings = BaseEntry.from_arr(embeddings)"
   ]
  },
  {
   "cell_type": "code",
   "execution_count": 34,
   "metadata": {},
   "outputs": [],
   "source": [
    "root.insert_all(embeddings, \"a-a1\")\n",
    "root.insert_all(embeddings, \"a-a2\")\n",
    "root.insert_all(embeddings, \"b-b1\")\n",
    "root.insert_all(embeddings, \"b-b2\")"
   ]
  },
  {
   "cell_type": "code",
   "execution_count": 37,
   "metadata": {},
   "outputs": [
    {
     "name": "stdout",
     "output_type": "stream",
     "text": [
      "2\n"
     ]
    }
   ],
   "source": [
    "root.delete_child(\"c\")"
   ]
  },
  {
   "cell_type": "code",
   "execution_count": 38,
   "metadata": {},
   "outputs": [],
   "source": [
    "root.create_child(child_name=\"c\",t = Indices.HNSWLeafIndex, keys=[q], max_children = NUM_VECTORS, dim = DIM, key = q)\n",
    "root.insert_all(BaseEntry.from_arr([q for i in range(NUM_VECTORS)], metadata=[{\"test\": \"test\"} for i in range(NUM_VECTORS)]), \"c\")"
   ]
  },
  {
   "cell_type": "code",
   "execution_count": null,
   "metadata": {},
   "outputs": [],
   "source": [
    "# root.create_child(child_name=\"e\",t = Indices.SVMInnerIndex, random_vector(), max_children = NUM_VECTORS, dim = DIM, key = q)"
   ]
  },
  {
   "cell_type": "code",
   "execution_count": 39,
   "metadata": {},
   "outputs": [
    {
     "name": "stdout",
     "output_type": "stream",
     "text": [
      "SVMRootIndex(name = root, num_children = 3)\n",
      "    HNSWLeafIndex(name = c, dim = 20, current_count = 20, searchable = True)\n",
      "    SVMInnerIndex(name=b, num_children=2, searchable = True)\n",
      "        HNSWLeafIndex(name = b2, dim = 20, current_count = 20, searchable = True)\n",
      "        HNSWLeafIndex(name = b1, dim = 20, current_count = 20, searchable = True)\n",
      "    SVMInnerIndex(name=a, num_children=2, searchable = True)\n",
      "        HNSWLeafIndex(name = a2, dim = 20, current_count = 20, searchable = True)\n",
      "        HNSWLeafIndex(name = a1, dim = 20, current_count = 20, searchable = True)\n",
      "\n"
     ]
    }
   ],
   "source": [
    "print(root.get_schema())"
   ]
  },
  {
   "cell_type": "code",
   "execution_count": 40,
   "metadata": {},
   "outputs": [],
   "source": [
    "path, items, dists = root.search(q, k = 5)"
   ]
  },
  {
   "cell_type": "code",
   "execution_count": 41,
   "metadata": {},
   "outputs": [
    {
     "data": {
      "text/plain": [
       "'c-'"
      ]
     },
     "execution_count": 41,
     "metadata": {},
     "output_type": "execute_result"
    }
   ],
   "source": [
    "path"
   ]
  },
  {
   "cell_type": "code",
   "execution_count": null,
   "metadata": {},
   "outputs": [
    {
     "data": {
      "text/plain": [
       "[None, None, None, None, None]"
      ]
     },
     "execution_count": 12,
     "metadata": {},
     "output_type": "execute_result"
    }
   ],
   "source": [
    "[check_equality(item.data, q) for item in items]"
   ]
  },
  {
   "cell_type": "code",
   "execution_count": null,
   "metadata": {},
   "outputs": [
    {
     "data": {
      "text/plain": [
       "dtype('float32')"
      ]
     },
     "execution_count": 13,
     "metadata": {},
     "output_type": "execute_result"
    }
   ],
   "source": [
    "BaseEntry.from_arr([q for i in range(NUM_VECTORS)], metadata=[{\"test\": \"test\"} for i in range(NUM_VECTORS)])[0].data.dtype"
   ]
  },
  {
   "cell_type": "code",
   "execution_count": null,
   "metadata": {},
   "outputs": [
    {
     "data": {
      "text/plain": [
       "0.0021822452545166016"
      ]
     },
     "execution_count": 14,
     "metadata": {},
     "output_type": "execute_result"
    }
   ],
   "source": [
    "time_function(root.search, q, k = 5)"
   ]
  },
  {
   "cell_type": "code",
   "execution_count": null,
   "metadata": {},
   "outputs": [],
   "source": [
    "root.save_to_disk()"
   ]
  },
  {
   "cell_type": "code",
   "execution_count": null,
   "metadata": {},
   "outputs": [
    {
     "data": {
      "text/plain": [
       "0.009336233139038086"
      ]
     },
     "execution_count": 16,
     "metadata": {},
     "output_type": "execute_result"
    }
   ],
   "source": [
    "def f():\n",
    "    root = Indices.FlatRootIndex.load_from_disk(\"root\")\n",
    "    root.search(q, k = 5)\n",
    "\n",
    "time_function(f)"
   ]
  },
  {
   "cell_type": "code",
   "execution_count": null,
   "metadata": {},
   "outputs": [
    {
     "data": {
      "text/plain": [
       "'4.57763671875e-05 MB'"
      ]
     },
     "execution_count": 17,
     "metadata": {},
     "output_type": "execute_result"
    }
   ],
   "source": [
    "get_mem_usage(root)"
   ]
  },
  {
   "cell_type": "code",
   "execution_count": null,
   "metadata": {},
   "outputs": [],
   "source": []
  }
 ],
 "metadata": {
  "kernelspec": {
   "display_name": "ml",
   "language": "python",
   "name": "python3"
  },
  "language_info": {
   "codemirror_mode": {
    "name": "ipython",
    "version": 3
   },
   "file_extension": ".py",
   "mimetype": "text/x-python",
   "name": "python",
   "nbconvert_exporter": "python",
   "pygments_lexer": "ipython3",
   "version": "3.9.15"
  },
  "orig_nbformat": 4
 },
 "nbformat": 4,
 "nbformat_minor": 2
}
